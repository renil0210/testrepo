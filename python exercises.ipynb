{
 "cells": [
  {
   "cell_type": "code",
   "execution_count": 1,
   "metadata": {},
   "outputs": [],
   "source": [
    "#swap first and last element\n",
    "#Input : [12, 35, 9, 56, 24]\n",
    "#Output : [24, 35, 9, 56, 12]\n"
   ]
  },
  {
   "cell_type": "code",
   "execution_count": 5,
   "metadata": {},
   "outputs": [
    {
     "name": "stdout",
     "output_type": "stream",
     "text": [
      "[5, 2, 3, 4, 1]\n"
     ]
    }
   ],
   "source": [
    "l=[1,2,3,4,5]\n",
    "temp=l[0]\n",
    "l[0]=l[-1]\n",
    "l[-1]=temp\n",
    "print(l)"
   ]
  },
  {
   "cell_type": "code",
   "execution_count": 5,
   "metadata": {
    "scrolled": true
   },
   "outputs": [
    {
     "name": "stdout",
     "output_type": "stream",
     "text": [
      "[1, 2, 3, 4, 5]\n",
      "[1, 4, 3, 2, 5]\n"
     ]
    }
   ],
   "source": [
    "#Python program to swap two elements in a list\n",
    "l=[1,2,3,4,5]\n",
    "print(l)\n",
    "def swapp(pos1,pos2,l):\n",
    "    l[pos1],l[pos2]=l[pos2],l[pos1]\n",
    "    return l\n",
    "pos1=2\n",
    "pos2=4\n",
    "swapp(pos1,pos2,l)    \n",
    "print(l)"
   ]
  },
  {
   "cell_type": "code",
   "execution_count": null,
   "metadata": {},
   "outputs": [],
   "source": [
    "#Maximum of two numbers in Python"
   ]
  },
  {
   "cell_type": "code",
   "execution_count": 3,
   "metadata": {},
   "outputs": [
    {
     "data": {
      "text/plain": [
       "3"
      ]
     },
     "execution_count": 3,
     "metadata": {},
     "output_type": "execute_result"
    }
   ],
   "source": [
    "def maxi(a,b):\n",
    "    if a>b:\n",
    "        print(a)\n",
    "    else:\n",
    "        print(b)\n",
    "max(3,-9)        "
   ]
  },
  {
   "cell_type": "code",
   "execution_count": 5,
   "metadata": {},
   "outputs": [
    {
     "name": "stdout",
     "output_type": "stream",
     "text": [
      "6\n"
     ]
    }
   ],
   "source": [
    "##\n",
    "a=4\n",
    "b=6\n",
    "maximum=max(a,b)\n",
    "print(maximum)"
   ]
  },
  {
   "cell_type": "code",
   "execution_count": 6,
   "metadata": {},
   "outputs": [
    {
     "name": "stdout",
     "output_type": "stream",
     "text": [
      "-6\n"
     ]
    }
   ],
   "source": [
    "#Minimum of two numbers in Python\n",
    "a=10\n",
    "b=-6\n",
    "minimum=min(a,b)\n",
    "print(minimum)"
   ]
  },
  {
   "cell_type": "code",
   "execution_count": 8,
   "metadata": {},
   "outputs": [
    {
     "name": "stdout",
     "output_type": "stream",
     "text": [
      "original list: ['hai', 'hello', 'sony', 'asus', 'kelvin']\n",
      "['_**', '_ello', 'sony', '*sus', 'kelv*n']\n"
     ]
    }
   ],
   "source": [
    "#Python – Swap elements in String list\n",
    "##\n",
    "                 #using replace()+list comprenshion\n",
    "test_list=['hai','hello','sony','asus','kelvin']\n",
    "print(\"original list:\",test_list)\n",
    "new_list=[sub.replace('a','i').replace('h','_').replace('i','*') for sub in test_list]\n",
    "print(new_list)"
   ]
  },
  {
   "cell_type": "code",
   "execution_count": 9,
   "metadata": {},
   "outputs": [
    {
     "name": "stdout",
     "output_type": "stream",
     "text": [
      "original list: ['hai', 'hello', 'sony', 'asus', 'kelvin']\n",
      "List after performing character swaps : ['hai', 'hGllo', 'sony', 'asus', 'kGlvin']\n"
     ]
    }
   ],
   "source": [
    "##\n",
    "                #Using join() + replace() + split()\n",
    "test_list=['hai','hello','sony','asus','kelvin']\n",
    "print(\"original list:\",test_list)\n",
    "res = \", \".join(test_list) \n",
    "res = res.replace(\"G\", \"_\").replace(\"e\", \"G\").replace(\"_\", \"e\").split(', ')\n",
    "print (\"List after performing character swaps : \" + str(res)) "
   ]
  },
  {
   "cell_type": "code",
   "execution_count": 9,
   "metadata": {},
   "outputs": [
    {
     "name": "stdout",
     "output_type": "stream",
     "text": [
      "[15, 14, 13, 12, 11, 10]\n"
     ]
    }
   ],
   "source": [
    "#Reversing a List in Python\n",
    "##reversed()\n",
    "def rev(list_1):\n",
    "    return [i for i in reversed(list_1)]\n",
    "list_1 = [10, 11, 12, 13, 14, 15]\n",
    "print(rev(list_1))\n"
   ]
  },
  {
   "cell_type": "code",
   "execution_count": 12,
   "metadata": {},
   "outputs": [
    {
     "name": "stdout",
     "output_type": "stream",
     "text": [
      "[15, 1, 13, 12, 11, 10]\n"
     ]
    }
   ],
   "source": [
    "\n",
    "##reverse()     \n",
    "lst = [10, 11, 12, 13, 1, 15] \n",
    "lst.reverse()\n",
    "print(lst)"
   ]
  },
  {
   "cell_type": "code",
   "execution_count": 13,
   "metadata": {},
   "outputs": [
    {
     "name": "stdout",
     "output_type": "stream",
     "text": [
      "[15, 1, 13, 12, 11, 10]\n"
     ]
    }
   ],
   "source": [
    "#slicing method\n",
    "lst = [10, 11, 12, 13, 1, 15] \n",
    "lst1=lst[::-1]\n",
    "print(lst1)"
   ]
  },
  {
   "cell_type": "code",
   "execution_count": 14,
   "metadata": {},
   "outputs": [
    {
     "name": "stdout",
     "output_type": "stream",
     "text": [
      "[100, 11, 2, 36, 1, 15]\n"
     ]
    }
   ],
   "source": [
    "#Python | Cloning or Copying a list\n",
    "lst = [100, 11, 2, 36, 1, 15] \n",
    "lst2=lst.copy()\n",
    "print(lst2)\n"
   ]
  },
  {
   "cell_type": "code",
   "execution_count": 20,
   "metadata": {},
   "outputs": [
    {
     "name": "stdout",
     "output_type": "stream",
     "text": [
      "3\n"
     ]
    }
   ],
   "source": [
    "#Python | Count occurrences of an element in a list\n",
    "lst = [15, 6, 7, 10, 12, 20, 10, 28, 10]\n",
    "x = 10\n",
    "cnt=0\n",
    "for i in lst:\n",
    "    if i==x:\n",
    "        cnt=cnt+1\n",
    "    else:\n",
    "        continue\n",
    "print(cnt)        \n",
    "        \n",
    "        "
   ]
  },
  {
   "cell_type": "code",
   "execution_count": 22,
   "metadata": {},
   "outputs": [
    {
     "data": {
      "text/plain": [
       "3"
      ]
     },
     "execution_count": 22,
     "metadata": {},
     "output_type": "execute_result"
    }
   ],
   "source": [
    "##\n",
    "lst = [15, 6, 7, 10, 12, 20, 10, 28, 10]\n",
    "y = 10\n",
    "lst.count(y)"
   ]
  },
  {
   "cell_type": "code",
   "execution_count": 23,
   "metadata": {},
   "outputs": [
    {
     "name": "stdout",
     "output_type": "stream",
     "text": [
      "sum is: 46\n",
      "avg is: 5.75\n"
     ]
    }
   ],
   "source": [
    "#Find sum and average of List in Python\n",
    "lt1=[4, 5, 1, 2, 9, 7, 10, 8]\n",
    "x=len(lt1)\n",
    "sum1=sum(lt1)\n",
    "avg=sum1/x\n",
    "print(\"sum is:\",sum1)\n",
    "print(\"avg is:\",avg)"
   ]
  },
  {
   "cell_type": "code",
   "execution_count": 1,
   "metadata": {},
   "outputs": [
    {
     "name": "stdout",
     "output_type": "stream",
     "text": [
      "[3, 8, 18, 13, 10]\n"
     ]
    }
   ],
   "source": [
    "#Python | Sum of number digits in List\n",
    "##\n",
    "lt2=[12,35,99,76,226]\n",
    "lt3=[]\n",
    "for i in lt2:\n",
    "    x=0\n",
    "    for j in str(i): \n",
    "        x+=int(j)  \n",
    "    lt3.append(x)   \n",
    "print(lt3)    "
   ]
  },
  {
   "cell_type": "code",
   "execution_count": 2,
   "metadata": {},
   "outputs": [
    {
     "name": "stdout",
     "output_type": "stream",
     "text": [
      "[3, 8, 18, 13, 10]\n"
     ]
    }
   ],
   "source": [
    "##\n",
    "res=list(map(lambda ele:sum(int(sub) for sub in str(ele)),lt2))\n",
    "print(res)\n"
   ]
  },
  {
   "cell_type": "code",
   "execution_count": 6,
   "metadata": {},
   "outputs": [
    {
     "name": "stdout",
     "output_type": "stream",
     "text": [
      "24\n"
     ]
    }
   ],
   "source": [
    "#Python | Multiply all numbers in the list\n",
    "from functools import reduce\n",
    "l1=[3,2,1,4]\n",
    "res1=reduce(lambda a,b:a*b,l1)\n",
    "print(res1)"
   ]
  },
  {
   "cell_type": "code",
   "execution_count": 7,
   "metadata": {},
   "outputs": [
    {
     "name": "stdout",
     "output_type": "stream",
     "text": [
      "24\n"
     ]
    }
   ],
   "source": [
    "#\n",
    "totl=1\n",
    "for i in l1:\n",
    "    totl=totl*i\n",
    "print(totl)    \n",
    "    "
   ]
  },
  {
   "cell_type": "code",
   "execution_count": 10,
   "metadata": {},
   "outputs": [
    {
     "name": "stdout",
     "output_type": "stream",
     "text": [
      "[2, 66, 4, 34, 2]\n"
     ]
    }
   ],
   "source": [
    "#Python program to print even numbers in a list\n",
    "qt1=[3,2,5,66,4,55,34,2,9]\n",
    "res2=list(filter(lambda n:n%2==0,qt1))\n",
    "print(res2)"
   ]
  },
  {
   "cell_type": "code",
   "execution_count": 13,
   "metadata": {},
   "outputs": [
    {
     "name": "stdout",
     "output_type": "stream",
     "text": [
      "[20, 30, 48, 10]\n"
     ]
    }
   ],
   "source": [
    "#Python | Program to print duplicates from a list of integers\n",
    "##\n",
    "def repeat(qt2):\n",
    "    x=len(qt2)\n",
    "    repeated=[]\n",
    "    for i in range(0,x):\n",
    "        k=i+1\n",
    "        for j in range(k,x):\n",
    "            if qt2[i]==qt2[j] and qt2[i] not in repeated:\n",
    "                repeated.append(qt2[i])\n",
    "    return repeated\n",
    "qt2=[20,20,20,30,30,30,40,20,48,29,10,20,48,48,101,10,10]\n",
    "print(repeat(qt2))\n",
    "            "
   ]
  },
  {
   "cell_type": "code",
   "execution_count": 1,
   "metadata": {},
   "outputs": [],
   "source": [
    "#2"
   ]
  },
  {
   "cell_type": "code",
   "execution_count": 8,
   "metadata": {},
   "outputs": [
    {
     "name": "stdout",
     "output_type": "stream",
     "text": [
      "[[1, 3, 4], [29, 39], 2]\n"
     ]
    }
   ],
   "source": [
    "#Python – Remove empty List from List\n",
    "ll1=[[],[1,3,4],[],[29,39],2]\n",
    "new=list(n for n in ll1 if n!=[])\n",
    "print(new)"
   ]
  },
  {
   "cell_type": "code",
   "execution_count": 10,
   "metadata": {},
   "outputs": [
    {
     "name": "stdout",
     "output_type": "stream",
     "text": [
      "[[1, 3, 4], [29, 39], 2]\n"
     ]
    }
   ],
   "source": [
    "##\n",
    "new1=list(filter(None,ll1))\n",
    "print(new1)"
   ]
  },
  {
   "cell_type": "code",
   "execution_count": 11,
   "metadata": {},
   "outputs": [
    {
     "name": "stdout",
     "output_type": "stream",
     "text": [
      "[{'name': 'car', 'id': 2}, {'name': 'bike', 'id': 5}]\n"
     ]
    }
   ],
   "source": [
    "#Python – Convert List to List of dictionaries\n",
    "##\n",
    "test_list=[\"car\",2,\"bike\",5]\n",
    "key_list=[\"name\",\"id\"]\n",
    "\n",
    "n=len(test_list)\n",
    "r=[]\n",
    "for i in range(0,n,2):\n",
    "    r.append({key_list[0]:test_list[i],key_list[1]:test_list[i+1]})\n",
    "print(r)    "
   ]
  },
  {
   "cell_type": "code",
   "execution_count": 22,
   "metadata": {},
   "outputs": [
    {
     "name": "stdout",
     "output_type": "stream",
     "text": [
      "{('a', 'b'): (1, 2), ('c', 'd'): (3, 4), ('e', 'f'): (5, 6)}\n"
     ]
    }
   ],
   "source": [
    "##\n",
    "test_list1 = [['a', 'b', 1, 2], ['c', 'd', 3, 4], ['e', 'f', 5, 6]] \n",
    "res = dict() \n",
    "for sub in test_list1: \n",
    "    res[tuple(sub[:2])] = tuple(sub[2:])\n",
    "    \n",
    "print(res)"
   ]
  },
  {
   "cell_type": "code",
   "execution_count": 27,
   "metadata": {},
   "outputs": [
    {
     "name": "stdout",
     "output_type": "stream",
     "text": [
      "[2, 3]\n",
      "[2, 9]\n"
     ]
    }
   ],
   "source": [
    "#Python | Uncommon elements in Lists of List\n",
    "lis1=[[1,2],[2,3],[3,4]]\n",
    "lis2=[[3,4],[1,2],[2,9]]\n",
    "x=len(lis1)\n",
    "for i in range(0,x):\n",
    "    if lis1[i] not in lis2:\n",
    "        print(lis1[i])\n",
    "for j in range(0,x):\n",
    "    if lis2[j] not in lis1:\n",
    "        print(lis2[j])        \n",
    "        "
   ]
  },
  {
   "cell_type": "code",
   "execution_count": 30,
   "metadata": {},
   "outputs": [
    {
     "name": "stdout",
     "output_type": "stream",
     "text": [
      "[[2, 3], [2, 9]]\n"
     ]
    }
   ],
   "source": [
    "##\n",
    "pes=set(map(tuple,lis1))^set(map(tuple,lis2))\n",
    "pes1=list(map(list,pes))\n",
    "print(pes1)"
   ]
  },
  {
   "cell_type": "code",
   "execution_count": 6,
   "metadata": {},
   "outputs": [
    {
     "name": "stdout",
     "output_type": "stream",
     "text": [
      "4\n"
     ]
    }
   ],
   "source": [
    "#Python program to select Random value form list of lists\n",
    "##\n",
    "from itertools import chain\n",
    "import random\n",
    "test_list4 = [[4, 5, 5], [2, 7, 4], [8, 6, 3]]\n",
    "test_li=random.choice(list(chain.from_iterable(test_list4)))\n",
    "print(test_li)\n"
   ]
  },
  {
   "cell_type": "code",
   "execution_count": 13,
   "metadata": {},
   "outputs": [
    {
     "name": "stdout",
     "output_type": "stream",
     "text": [
      "[6, 2, 1]\n",
      "[4, 4, 1]\n",
      "[6, 4, 0]\n",
      "[6, 5, 3]\n"
     ]
    }
   ],
   "source": [
    "#Python – Reverse Row sort in Lists of List\n",
    "test4=[[2,6,1],[4,1,4],[4,0,6],[5,6,3]]\n",
    "for i in test4:\n",
    "    i.sort(reverse=True)\n",
    "    print(i)"
   ]
  },
  {
   "cell_type": "code",
   "execution_count": 14,
   "metadata": {},
   "outputs": [
    {
     "name": "stdout",
     "output_type": "stream",
     "text": [
      "[[[2, 4], [5, 4]], [[9, 2], [4, 2]], [[3, 0], [1, 0]]]\n"
     ]
    }
   ],
   "source": [
    "#Python – Pair elements with Rear element in Matrix Row\n",
    "##\n",
    "test5=[[2,5,4],[9,4,2],[3,1,0]]\n",
    "res = [] \n",
    "for sub in test5: \n",
    "    res.append([[ele, sub[-1]] for ele in sub[:-1]]) \n",
    "print(res)    \n",
    "      "
   ]
  },
  {
   "cell_type": "code",
   "execution_count": 4,
   "metadata": {},
   "outputs": [
    {
     "name": "stdout",
     "output_type": "stream",
     "text": [
      "6\n"
     ]
    }
   ],
   "source": [
    "#How to count unique values inside a list\n",
    "test6=[2,2,2,4,1,5,5,7,7,3,]\n",
    "l=[]\n",
    "for i in test6:\n",
    "    if i not in l:\n",
    "        l.append(i)\n",
    "print(len(l))        \n"
   ]
  },
  {
   "cell_type": "code",
   "execution_count": 5,
   "metadata": {},
   "outputs": [
    {
     "name": "stdout",
     "output_type": "stream",
     "text": [
      "6\n"
     ]
    }
   ],
   "source": [
    "##\n",
    "new_set=set(test6)\n",
    "print(len(new_set))"
   ]
  },
  {
   "cell_type": "code",
   "execution_count": 11,
   "metadata": {},
   "outputs": [
    {
     "name": "stdout",
     "output_type": "stream",
     "text": [
      "240\n"
     ]
    }
   ],
   "source": [
    "#Python – List product excluding duplicates\n",
    "from functools import reduce\n",
    "test7=[2,4,4,5,1,1,4,4,5,6,6]\n",
    "li=[]\n",
    "for i in test7:\n",
    "    if i not in li:\n",
    "        li.append(i)\n",
    "n=reduce(lambda a,b:a*b,li)\n",
    "print(n)"
   ]
  },
  {
   "cell_type": "code",
   "execution_count": 13,
   "metadata": {},
   "outputs": [
    {
     "name": "stdout",
     "output_type": "stream",
     "text": [
      "{1, 2, 6}\n"
     ]
    }
   ],
   "source": [
    "#Python – Extract elements with Frequency greater than K\n",
    "test8=[2,2,2,2,4,1,1,1,1,5,6,5,6,3,2,6,6,6,6]\n",
    "lis=[]\n",
    "k=3\n",
    "[lis.append(x) for x in test8 if test8.count(x)>k]\n",
    "lis1=set(lis)\n",
    "print(lis1)"
   ]
  },
  {
   "cell_type": "code",
   "execution_count": 10,
   "metadata": {},
   "outputs": [
    {
     "name": "stdout",
     "output_type": "stream",
     "text": [
      "True\n"
     ]
    }
   ],
   "source": [
    "#Python – Test if List contains elements in Range\n",
    "##\n",
    "test9=[2,2,2,2,4,1,1,1,1,5,6,5,6,3,2,4,7,8,9,10,11,12,13,12,5,16,17]\n",
    "x,y=1,20\n",
    "res = True\n",
    "for ele in test9: \n",
    "    if ele<x and ele>=y :\n",
    "        res = False \n",
    "        break\n",
    "print(res)        \n",
    "    "
   ]
  },
  {
   "cell_type": "code",
   "execution_count": 12,
   "metadata": {},
   "outputs": [
    {
     "name": "stdout",
     "output_type": "stream",
     "text": [
      "True\n"
     ]
    }
   ],
   "source": [
    "##\n",
    "w=all(i>=x and i<y for i in test9)\n",
    "print(w)"
   ]
  },
  {
   "cell_type": "code",
   "execution_count": 8,
   "metadata": {},
   "outputs": [
    {
     "name": "stdout",
     "output_type": "stream",
     "text": [
      "[1, 5]\n"
     ]
    }
   ],
   "source": [
    "#Python program to check if the list contains three consecutive common numbers in Python\n",
    "test10=[1,1,1,2,3,4,5,5,5]\n",
    "t=[]\n",
    "for i in test10:\n",
    "    x=test10.count(i)\n",
    "    if x==3:\n",
    "        t.append(i)\n",
    "        \n",
    "print(list(set(t)))      "
   ]
  },
  {
   "cell_type": "code",
   "execution_count": 13,
   "metadata": {},
   "outputs": [
    {
     "name": "stdout",
     "output_type": "stream",
     "text": [
      "1\n",
      "5\n"
     ]
    }
   ],
   "source": [
    "##\n",
    "siz=len(test10)\n",
    "for j in range(siz-2):\n",
    "    if test10[j]==test10[j+1]and test10[j+1]==test10[j+2]:\n",
    "        print(test10[j])"
   ]
  },
  {
   "cell_type": "code",
   "execution_count": 2,
   "metadata": {},
   "outputs": [
    {
     "name": "stdout",
     "output_type": "stream",
     "text": [
      "(3, 4, 1)\n",
      "(3, 1, 4)\n",
      "(4, 3, 1)\n",
      "(4, 1, 3)\n",
      "(1, 3, 4)\n",
      "(1, 4, 3)\n"
     ]
    }
   ],
   "source": [
    "#Python Program to print all Possible Combinations from the three Digits\n",
    "##\n",
    "from itertools import permutations\n",
    "test=[3,4,1]\n",
    "comb=permutations(test,3)\n",
    "for i in comb:\n",
    "    print(i)\n",
    "    "
   ]
  },
  {
   "cell_type": "code",
   "execution_count": 3,
   "metadata": {},
   "outputs": [
    {
     "name": "stdout",
     "output_type": "stream",
     "text": [
      "3 4 1\n",
      "3 1 4\n",
      "4 3 1\n",
      "4 1 3\n",
      "1 3 4\n",
      "1 4 3\n"
     ]
    }
   ],
   "source": [
    "##\n",
    "x=len(test)\n",
    "for i in range(x):\n",
    "    #print(i,j,k)\n",
    "    for j in range(x):\n",
    "        #print(i,j,k)\n",
    "        for k in range(x):\n",
    "            #print(i,j,k)\n",
    "            if i!=j and j!=k and k!=i:\n",
    "                print(test[i],test[j],test[k])"
   ]
  }
 ],
 "metadata": {
  "kernelspec": {
   "display_name": "Python 3",
   "language": "python",
   "name": "python3"
  },
  "language_info": {
   "codemirror_mode": {
    "name": "ipython",
    "version": 3
   },
   "file_extension": ".py",
   "mimetype": "text/x-python",
   "name": "python",
   "nbconvert_exporter": "python",
   "pygments_lexer": "ipython3",
   "version": "3.6.10"
  }
 },
 "nbformat": 4,
 "nbformat_minor": 4
}
